{
  "cells": [
    {
      "cell_type": "code",
      "execution_count": null,
      "metadata": {
        "id": "Cbu57m3nUFkc"
      },
      "outputs": [],
      "source": [
        "from pyspark.sql import SparkSession\n",
        "# from pyspark.sql.functions import col, udf\n",
        "from pyspark.sql.functions import *\n",
        "from pyspark.sql.types import IntegerType, FloatType\n",
        "from pyspark.ml.feature import VectorAssembler\n",
        "from pyspark.ml.classification import LogisticRegression, RandomForestClassifier, LinearSVC\n",
        "from pyspark.ml import Pipeline\n",
        "from pyspark.ml.evaluation import MulticlassClassificationEvaluator\n",
        "from pyspark.ml.linalg import Vectors\n",
        "from pyspark.ml.feature import StringIndexer\n",
        "import numpy as npwwwwss\n",
        "from pyspark.sql import functions as F\n",
        "import re\n",
        "\n"
      ]
    },
    {
      "cell_type": "code",
      "execution_count": null,
      "metadata": {
        "id": "aGHxbMokUFke",
        "outputId": "5f24e652-b05e-408d-f2a2-818b92630d64"
      },
      "outputs": [
        {
          "name": "stderr",
          "output_type": "stream",
          "text": [
            "24/12/20 13:59:54 WARN SparkSession: Using an existing Spark session; only runtime SQL configurations will take effect.\n"
          ]
        }
      ],
      "source": [
        "#spark session\n",
        "\n",
        "\n",
        "# Create a Spark session with optimal configurations for your system\n",
        "spark = SparkSession.builder \\\n",
        "    .appName(\"DomainDataAnalysis\") \\\n",
        "    .config(\"spark.sql.shuffle.partitions\", \"4\")\\\n",
        "    .config(\"spark.executor.memory\", \"16g\") \\\n",
        "    .config(\"spark.executor.cores\", \"4\") \\\n",
        "    .config(\"spark.driver.memory\", \"4g\") \\\n",
        "    .config(\"spark.driver.cores\", \"2\") \\\n",
        "    .config(\"spark.local.dir\", \"/tmp/spark-temp\") \\\n",
        "    .config(\"spark.sql.warehouse.dir\", \"/tmp/spark-warehouse\") \\\n",
        "    .config(\"spark.executor.memoryOverhead\", \"4g\") \\\n",
        "    .config(\"spark.dynamicAllocation.enabled\", \"false\") \\\n",
        "    .config(\"spark.cores.max\", \"8\") \\\n",
        "    .config(\"spark.sql.legacy.timeParserPolicy\", \"LEGACY\") \\\n",
        "    .getOrCreate()\n",
        "\n",
        "\n"
      ]
    },
    {
      "cell_type": "code",
      "execution_count": null,
      "metadata": {
        "id": "F4qWR7dpUFke",
        "outputId": "3ae67efe-8b3e-49a8-ba9e-e827e9c777af"
      },
      "outputs": [
        {
          "name": "stderr",
          "output_type": "stream",
          "text": [
            "                                                                                \r"
          ]
        }
      ],
      "source": [
        "# Load data\n",
        "# broadcast_common_words = sc.broadcast(common_words)\n",
        "top_500domains_csv = spark.read.csv(\"top500Domains.csv\", header=True, inferSchema=True)\n",
        "\n",
        "top_500domains_txt_raw = spark.read.text(\"top500Domains.txt\")\n",
        "\n",
        "# Function to split the line using regex to handle both tabs and spaces\n",
        "def split_line(line):\n",
        "    # Regex to split based on one or more spaces or tabs\n",
        "    return re.split(r'\\s{1,}', line)\n",
        "\n",
        "# Apply the split_line function to each line\n",
        "normalized_data = top_500domains_txt_raw.rdd.map(lambda row: split_line(row[0]))\n",
        "\n",
        "# Map the data to a tuple format (Rank, Domain, SalePrice, SaleDate)\n",
        "# Ensure proper handling if some fields are missing (e.g., SalePrice or SaleDate)\n",
        "top_500domains_txt = normalized_data.map(lambda p: (\n",
        "    int(p[0]),  # Rank\n",
        "    p[1],       # Domain\n",
        "    p[2] if len(p) > 2 else None,  # SalePrice\n",
        "    p[3] if len(p) > 3 else None   # SaleDate\n",
        ")).toDF([\"Rank\", \"Domain\", \"SalePrice\", \"SaleDate\"])\n",
        "# sales_prices_category = spark.read.csv(\"Sales_Prices_Category.csv\", header=True, inferSchema=True)\n",
        "domain_data = spark.read.csv(\"DomainData.csv\", header=True, inferSchema=True)\n",
        "common_words = spark.read.text(\"EnglishMostCommonwords.txt\").toDF(\"Word\")\n",
        "# sc = SparkContext.getOrCreate()  # Get the current SparkContext\n",
        "\n",
        "\n"
      ]
    },
    {
      "cell_type": "code",
      "execution_count": null,
      "metadata": {
        "id": "72mwacPZUFkf",
        "outputId": "08b31658-95e8-4152-e30a-1c573c6be1c8"
      },
      "outputs": [
        {
          "name": "stdout",
          "output_type": "stream",
          "text": [
            "+--------------------+--------+----+---------+--------+\n",
            "|              Domain|category|Rank|SalePrice|SaleDate|\n",
            "+--------------------+--------+----+---------+--------+\n",
            "|          dkcorp.com|       1|NULL|     NULL|    NULL|\n",
            "|   torontodining.com|       1|NULL|     NULL|    NULL|\n",
            "|   valueregistry.com|       1|NULL|     NULL|    NULL|\n",
            "|canadaconnection.com|       1|NULL|     NULL|    NULL|\n",
            "|    dentaltrader.com|       1|NULL|     NULL|    NULL|\n",
            "+--------------------+--------+----+---------+--------+\n",
            "only showing top 5 rows\n",
            "\n"
          ]
        }
      ],
      "source": [
        "domain_data = domain_data.join(top_500domains_txt, on=\"Domain\", how=\"left\")\n",
        "domain_data.show(5)\n",
        "common_words_list = common_words.select(\"Word\").rdd.flatMap(lambda x: x).collect()\n",
        "broadcast_common_words = spark.sparkContext.broadcast(common_words_list)\n"
      ]
    },
    {
      "cell_type": "code",
      "execution_count": null,
      "metadata": {
        "id": "ZzyS6GFmUFkf",
        "outputId": "0be06dc5-4bd5-410a-ea71-09ce5dc486bf"
      },
      "outputs": [
        {
          "name": "stdout",
          "output_type": "stream",
          "text": [
            "Top 500 domain csv\n",
            "+----+--------------------+--------------------+----------------+\n",
            "|Rank|         Root Domain|Linking Root Domains|Domain Authority|\n",
            "+----+--------------------+--------------------+----------------+\n",
            "|   1|         youtube.com|          22,173,670|             100|\n",
            "|   2|      www.google.com|          14,072,847|             100|\n",
            "|   3|           apple.com|           6,368,757|             100|\n",
            "|   4|     www.blogger.com|          29,389,261|              99|\n",
            "|   5|  support.google.com|           5,253,500|              99|\n",
            "|   6|        linkedin.com|          11,605,442|              99|\n",
            "|   7|       microsoft.com|           5,116,419|              99|\n",
            "|   8|     play.google.com|           3,762,032|              99|\n",
            "|   9|     maps.google.com|           5,760,546|              98|\n",
            "|  10|     docs.google.com|           3,208,649|              98|\n",
            "|  11|         mozilla.org|           2,341,876|              98|\n",
            "|  12|       wordpress.org|          11,706,808|              98|\n",
            "|  13|    en.wikipedia.org|           6,889,477|              98|\n",
            "|  14|            youtu.be|           5,036,467|              98|\n",
            "|  15|      cloudflare.com|           6,255,892|              98|\n",
            "|  16| accounts.google.com|           2,558,308|              97|\n",
            "|  17|           adobe.com|           2,851,221|              97|\n",
            "|  18|googleusercontent...|           3,202,014|              97|\n",
            "|  19|     bp.blogspot.com|          17,641,851|              97|\n",
            "|  20|           europa.eu|           2,154,596|              97|\n",
            "+----+--------------------+--------------------+----------------+\n",
            "only showing top 20 rows\n",
            "\n",
            "Top 500 domain txt\n",
            "+----+------------+-----------+--------+\n",
            "|Rank|      Domain|  SalePrice|SaleDate|\n",
            "+----+------------+-----------+--------+\n",
            "|   1|   voice.com|$30,000,000| 5/30/19|\n",
            "|   2|     sex.com|$13,000,000| 11/1/10|\n",
            "|   3|   tesla.com|$11,000,000| 12/6/18|\n",
            "|   4|  hotels.com|$11,000,000|  9/1/01|\n",
            "|   5|    fund.com| $9,999,950|  3/1/08|\n",
            "|   6|    porn.com| $9,500,000|  5/1/07|\n",
            "|   7|   porno.com| $8,888,888|  2/1/15|\n",
            "|   8|      fb.com| $8,500,000|  9/1/10|\n",
            "|   9|      we.com| $8,000,000| 6/19/15|\n",
            "|  10| diamond.com| $7,500,000|  5/1/06|\n",
            "|  11|    beer.com| $7,000,000|  1/1/04|\n",
            "|  12|       z.com| $6,784,000| 11/1/14|\n",
            "|  13|   slots.com| $5,500,000|  6/1/10|\n",
            "|  14|  casino.com| $5,500,000| 11/1/03|\n",
            "|  15|    toys.com| $5,100,000|  3/1/09|\n",
            "|  16|   korea.com| $5,000,000|  1/1/00|\n",
            "|  17| clothes.com| $4,900,000|  1/1/08|\n",
            "|  18|      ig.com| $4,700,000|  9/1/13|\n",
            "|  19|freeporn.com| $4,000,000|  2/1/08|\n",
            "|  20|      yp.com| $3,850,000| 11/1/08|\n",
            "+----+------------+-----------+--------+\n",
            "only showing top 20 rows\n",
            "\n",
            "Domain Data\n",
            "+--------------------+--------+----+---------+--------+\n",
            "|              Domain|category|Rank|SalePrice|SaleDate|\n",
            "+--------------------+--------+----+---------+--------+\n",
            "|          dkcorp.com|       1|NULL|     NULL|    NULL|\n",
            "|          orgolf.com|       1|NULL|     NULL|    NULL|\n",
            "|      caproperty.com|       1|NULL|     NULL|    NULL|\n",
            "|    techcreation.com|       1|NULL|     NULL|    NULL|\n",
            "|   torontodining.com|       1|NULL|     NULL|    NULL|\n",
            "|   valueregistry.com|       1|NULL|     NULL|    NULL|\n",
            "|canadaconnection.com|       1|NULL|     NULL|    NULL|\n",
            "|    dentaltrader.com|       1|NULL|     NULL|    NULL|\n",
            "|    hamiltongolf.com|       1|NULL|     NULL|    NULL|\n",
            "|          micars.com|       1|NULL|     NULL|    NULL|\n",
            "|       blogstore.com|       1|NULL|     NULL|    NULL|\n",
            "|        bizblogs.com|       1|NULL|     NULL|    NULL|\n",
            "|    floriststore.com|       1|NULL|     NULL|    NULL|\n",
            "|        notecafe.com|       1|NULL|     NULL|    NULL|\n",
            "|    mnapartments.com|       1|NULL|     NULL|    NULL|\n",
            "|     weathergods.com|       1|NULL|     NULL|    NULL|\n",
            "|         tnloans.com|       1|NULL|     NULL|    NULL|\n",
            "|     trendmarker.com|       1|NULL|     NULL|    NULL|\n",
            "|          slyons.com|       1|NULL|     NULL|    NULL|\n",
            "|        ndrealty.com|       1|NULL|     NULL|    NULL|\n",
            "+--------------------+--------+----+---------+--------+\n",
            "only showing top 20 rows\n",
            "\n",
            "common words\n",
            "+----+\n",
            "|Word|\n",
            "+----+\n",
            "| the|\n",
            "|  of|\n",
            "|  to|\n",
            "| and|\n",
            "|   a|\n",
            "|  in|\n",
            "|  is|\n",
            "|  it|\n",
            "| you|\n",
            "|that|\n",
            "|  he|\n",
            "| was|\n",
            "| for|\n",
            "|  on|\n",
            "| are|\n",
            "|with|\n",
            "|  as|\n",
            "|   I|\n",
            "| his|\n",
            "|they|\n",
            "+----+\n",
            "only showing top 20 rows\n",
            "\n"
          ]
        }
      ],
      "source": [
        "# print the read data set\n",
        "print(\"Top 500 domain csv\")\n",
        "top_500domains_csv.show()\n",
        "print(\"Top 500 domain txt\")\n",
        "top_500domains_txt.show()\n",
        "print(\"Domain Data\")\n",
        "domain_data.show()\n",
        "print(\"common words\")\n",
        "common_words.show()"
      ]
    },
    {
      "cell_type": "code",
      "execution_count": null,
      "metadata": {
        "id": "RZuqO7-kUFkf",
        "outputId": "4867e6b4-0e03-40e6-ceac-06b065a54b53"
      },
      "outputs": [
        {
          "name": "stdout",
          "output_type": "stream",
          "text": [
            "+--------------------+--------+----+---------+--------+--------------+-----------+-----------+---------------+\n",
            "|              Domain|category|Rank|SalePrice|SaleDate|ContainsNumber|HyphenCount|EndsWithTLD|CommonWordCount|\n",
            "+--------------------+--------+----+---------+--------+--------------+-----------+-----------+---------------+\n",
            "|          dkcorp.com|       1|NULL|     NULL|    NULL|             0|          0|          1|              1|\n",
            "|          orgolf.com|       1|NULL|     NULL|    NULL|             0|          0|          1|              2|\n",
            "|      caproperty.com|       1|NULL|     NULL|    NULL|             0|          0|          1|              4|\n",
            "|    techcreation.com|       1|NULL|     NULL|    NULL|             0|          0|          1|              4|\n",
            "|   torontodining.com|       1|NULL|     NULL|    NULL|             0|          0|          1|              4|\n",
            "|   valueregistry.com|       1|NULL|     NULL|    NULL|             0|          0|          1|              4|\n",
            "|canadaconnection.com|       1|NULL|     NULL|    NULL|             0|          0|          1|              5|\n",
            "|    dentaltrader.com|       1|NULL|     NULL|    NULL|             0|          0|          1|              2|\n",
            "|    hamiltongolf.com|       1|NULL|     NULL|    NULL|             0|          0|          1|              5|\n",
            "|          micars.com|       1|NULL|     NULL|    NULL|             0|          0|          1|              2|\n",
            "|       blogstore.com|       1|NULL|     NULL|    NULL|             0|          0|          1|              4|\n",
            "|        bizblogs.com|       1|NULL|     NULL|    NULL|             0|          0|          1|              1|\n",
            "|    floriststore.com|       1|NULL|     NULL|    NULL|             0|          0|          1|              4|\n",
            "|        notecafe.com|       1|NULL|     NULL|    NULL|             0|          0|          1|              4|\n",
            "|    mnapartments.com|       1|NULL|     NULL|    NULL|             0|          0|          1|              5|\n",
            "|     weathergods.com|       1|NULL|     NULL|    NULL|             0|          0|          1|              9|\n",
            "|         tnloans.com|       1|NULL|     NULL|    NULL|             0|          0|          1|              2|\n",
            "|     trendmarker.com|       1|NULL|     NULL|    NULL|             0|          0|          1|              3|\n",
            "|          slyons.com|       1|NULL|     NULL|    NULL|             0|          0|          1|              1|\n",
            "|        ndrealty.com|       1|NULL|     NULL|    NULL|             0|          0|          1|              2|\n",
            "+--------------------+--------+----+---------+--------+--------------+-----------+-----------+---------------+\n",
            "only showing top 20 rows\n",
            "\n"
          ]
        }
      ],
      "source": [
        "top_domains_txt = top_500domains_txt.withColumn(\"SalePrice\", regexp_replace(col(\"SalePrice\"), \"[$,]\", \"\").cast(FloatType()))\\\n",
        "                                 .withColumn(\"SaleYear\", year(to_date(col(\"SaleDate\"), \"M/d/yy\")))\n",
        "# Process `DomainData.csv`\n",
        "domain_data = domain_data.withColumn(\"ContainsNumber\", col(\"Domain\").rlike(\"\\\\d\").cast(IntegerType()))\\\n",
        "                         .withColumn(\"HyphenCount\", size(split(col(\"Domain\"), \"-\")) - 1)\\\n",
        "                         .withColumn(\"EndsWithTLD\", col(\"Domain\").rlike(\"(\\\\.com|\\\\.org|\\\\.net)$\").cast(IntegerType()))\n",
        "\n",
        "# Feature 1: Common Word Count in Domain Name (using most common English words)\n",
        "def count_common_words(domain_name):\n",
        "    try:\n",
        "\n",
        "        common_w = broadcast_common_words.value\n",
        "        if not isinstance(domain_name, str):\n",
        "            print(f\"Invalid Domain: {domain_name} (Type: {type(domain_name)})\")\n",
        "            return 0\n",
        "        out=0\n",
        "        for word in common_w:\n",
        "            if word in domain_name.lower():\n",
        "                out+=1\n",
        "        return out\n",
        "    except Exception as e:\n",
        "        print(f\"Error processing {domain_name}: {e}\")\n",
        "        return 0\n",
        "\n",
        "# # Register UDF (User Defined Function) for Spark to use\n",
        "count_common_words_udf = udf(count_common_words, IntegerType())\n",
        "\n",
        "# # # Add common word count column to domain data\n",
        "domain_data = domain_data.na.fill({\"Domain\": \"\"})\n",
        "try:\n",
        "    domain_data = domain_data.withColumn(\"CommonWordCount\", count_common_words_udf(col(\"Domain\")))\n",
        "except Exception as e:\n",
        "    print(f\"Error during withColumn operation: {e}\")\n",
        "domain_data.show()\n",
        "# Feature 2: Domain Authority (DA) match score from the top500 domains CSV\n"
      ]
    },
    {
      "cell_type": "code",
      "execution_count": null,
      "metadata": {
        "id": "jemsRZSAUFkg",
        "outputId": "f6619589-4383-41bd-c9c4-2492c0c26802"
      },
      "outputs": [
        {
          "name": "stdout",
          "output_type": "stream",
          "text": [
            "+--------------------+--------+----+---------+--------+--------------+-----------+-----------+---------------+---------------+----------+------------+\n",
            "|              Domain|category|Rank|SalePrice|SaleDate|ContainsNumber|HyphenCount|EndsWithTLD|CommonWordCount|DomainAuthority|PopularTld|DomainLength|\n",
            "+--------------------+--------+----+---------+--------+--------------+-----------+-----------+---------------+---------------+----------+------------+\n",
            "|          dkcorp.com|       1|NULL|     NULL|    NULL|             0|          0|          1|              1|              0|         1|          10|\n",
            "|   torontodining.com|       1|NULL|     NULL|    NULL|             0|          0|          1|              4|              1|         1|          17|\n",
            "|   valueregistry.com|       1|NULL|     NULL|    NULL|             0|          0|          1|              4|              0|         1|          17|\n",
            "|canadaconnection.com|       1|NULL|     NULL|    NULL|             0|          0|          1|              5|              0|         1|          20|\n",
            "|    dentaltrader.com|       1|NULL|     NULL|    NULL|             0|          0|          1|              2|              0|         1|          16|\n",
            "+--------------------+--------+----+---------+--------+--------------+-----------+-----------+---------------+---------------+----------+------------+\n",
            "only showing top 5 rows\n",
            "\n",
            "+----+------------+---------+--------+--------+\n",
            "|Rank|      Domain|SalePrice|SaleDate|SaleYear|\n",
            "+----+------------+---------+--------+--------+\n",
            "|   1|   voice.com|    3.0E7| 5/30/19|    2019|\n",
            "|   2|     sex.com|    1.3E7| 11/1/10|    2010|\n",
            "|   3|   tesla.com|    1.1E7| 12/6/18|    2018|\n",
            "|   4|  hotels.com|    1.1E7|  9/1/01|    2001|\n",
            "|   5|    fund.com|9999950.0|  3/1/08|    2008|\n",
            "|   6|    porn.com|9500000.0|  5/1/07|    2007|\n",
            "|   7|   porno.com|8888888.0|  2/1/15|    2015|\n",
            "|   8|      fb.com|8500000.0|  9/1/10|    2010|\n",
            "|   9|      we.com|8000000.0| 6/19/15|    2015|\n",
            "|  10| diamond.com|7500000.0|  5/1/06|    2006|\n",
            "|  11|    beer.com|7000000.0|  1/1/04|    2004|\n",
            "|  12|       z.com|6784000.0| 11/1/14|    2014|\n",
            "|  13|   slots.com|5500000.0|  6/1/10|    2010|\n",
            "|  14|  casino.com|5500000.0| 11/1/03|    2003|\n",
            "|  15|    toys.com|5100000.0|  3/1/09|    2009|\n",
            "|  16|   korea.com|5000000.0|  1/1/00|    2000|\n",
            "|  17| clothes.com|4900000.0|  1/1/08|    2008|\n",
            "|  18|      ig.com|4700000.0|  9/1/13|    2013|\n",
            "|  19|freeporn.com|4000000.0|  2/1/08|    2008|\n",
            "|  20|      yp.com|3850000.0| 11/1/08|    2008|\n",
            "+----+------------+---------+--------+--------+\n",
            "only showing top 20 rows\n",
            "\n"
          ]
        }
      ],
      "source": [
        "top500_domains = top_500domains_csv.select(\"Root Domain\").rdd.flatMap(lambda x: x).collect()\n",
        "\n",
        "# Function to check if the domain matches a top500 domain\n",
        "def check_domain_authority(domain_name, top500_domains):\n",
        "    for top_domain in top500_domains:\n",
        "        if top_domain.lower() in domain_name.lower():\n",
        "            return 1  # Domain matches a high-authority domain\n",
        "    return 0  # No match\n",
        "\n",
        "# Register the UDF, passing the top500 domains as an additional argument\n",
        "domain_authority_udf = udf(lambda domain_name: check_domain_authority(domain_name, top500_domains), IntegerType())\n",
        "# Now you can apply the UDF on your DataFrame\n",
        "domain_data = domain_data.withColumn(\"DomainAuthority\", domain_authority_udf(\"Domain\"))\n",
        "# Feature 4: TLD (Top Level Domain) Type feature\n",
        "def get_tld_type(domain_name):\n",
        "    match = re.search(r\"\\.(\\w+)$\", domain_name)\n",
        "    if match:\n",
        "        tld = match.group(1)\n",
        "        if tld in [\"com\", \"org\", \"net\", \"io\", \"ai\"]:  # Popular TLDs\n",
        "            return 1\n",
        "    return 0\n",
        "# Register TLD feature extraction UDF\n",
        "get_tld_type_udf = udf(get_tld_type, IntegerType())\n",
        "\n",
        "# Add TLD feature column\n",
        "domain_data = domain_data.withColumn(\"PopularTld\", get_tld_type_udf(col(\"Domain\")))\n",
        "\n",
        "# Feature 5: Length of Domain Name (the shorter the better)\n",
        "# domain_data = domain_data.withColumn(\"domain_length\", col(\"Domain\").rlike(r\"[A-Za-z0-9]{1,}\"))\n",
        "domain_data = domain_data.withColumn(\n",
        "    \"DomainLength\",\n",
        "    when(col(\"Domain\").rlike(r\"[A-Za-z0-9]{1,}\"), length(col(\"Domain\"))).otherwise(0)\n",
        ")\n",
        "\n",
        "# Show some of the processed data\n",
        "domain_data.show(5)\n",
        "top_domains_txt.show()\n",
        "\n"
      ]
    },
    {
      "cell_type": "code",
      "execution_count": null,
      "metadata": {
        "id": "bGChISgjUFkg",
        "outputId": "b3b97937-b28a-4b26-a24b-ea3c55c111f8"
      },
      "outputs": [
        {
          "name": "stdout",
          "output_type": "stream",
          "text": [
            "+--------------------+--------+----+---------+--------+--------------+-----------+-----------+---------------+---------------+----------+------------+--------------+-------------+--------------+----------+-------------------+-----------+------------+-----------+---------+\n",
            "|              Domain|category|Rank|SalePrice|SaleDate|ContainsNumber|HyphenCount|EndsWithTLD|CommonWordCount|DomainAuthority|PopularTld|DomainLength|SubDomainCount|IsShortDomain|CharsBeforeTld|VowelCount|         VowelRatio|IsBrandName|DomainPrefix|IsSSLSecure|TldLength|\n",
            "+--------------------+--------+----+---------+--------+--------------+-----------+-----------+---------------+---------------+----------+------------+--------------+-------------+--------------+----------+-------------------+-----------+------------+-----------+---------+\n",
            "|          dkcorp.com|       1|NULL|     NULL|    NULL|             0|          0|          1|              1|              0|         1|          10|             1|            1|             6|         2|                0.2|          0|       other|          0|        3|\n",
            "|   torontodining.com|       1|NULL|     NULL|    NULL|             0|          0|          1|              4|              1|         1|          17|             1|            0|            13|         6|0.35294117647058826|          0|       other|          0|        3|\n",
            "|   valueregistry.com|       1|NULL|     NULL|    NULL|             0|          0|          1|              4|              0|         1|          17|             1|            0|            13|         6|0.35294117647058826|          0|       other|          0|        3|\n",
            "|canadaconnection.com|       1|NULL|     NULL|    NULL|             0|          0|          1|              5|              0|         1|          20|             1|            0|            16|         8|                0.4|          0|       other|          0|        3|\n",
            "|    dentaltrader.com|       1|NULL|     NULL|    NULL|             0|          0|          1|              2|              0|         1|          16|             1|            0|            12|         5|             0.3125|          0|       other|          0|        3|\n",
            "+--------------------+--------+----+---------+--------+--------------+-----------+-----------+---------------+---------------+----------+------------+--------------+-------------+--------------+----------+-------------------+-----------+------------+-----------+---------+\n",
            "only showing top 5 rows\n",
            "\n",
            "root\n",
            " |-- Domain: string (nullable = false)\n",
            " |-- category: integer (nullable = true)\n",
            " |-- Rank: long (nullable = true)\n",
            " |-- SalePrice: string (nullable = true)\n",
            " |-- SaleDate: string (nullable = true)\n",
            " |-- ContainsNumber: integer (nullable = true)\n",
            " |-- HyphenCount: integer (nullable = false)\n",
            " |-- EndsWithTLD: integer (nullable = true)\n",
            " |-- CommonWordCount: integer (nullable = true)\n",
            " |-- DomainAuthority: integer (nullable = true)\n",
            " |-- PopularTld: integer (nullable = true)\n",
            " |-- DomainLength: integer (nullable = false)\n",
            " |-- SubDomainCount: integer (nullable = true)\n",
            " |-- IsShortDomain: integer (nullable = true)\n",
            " |-- CharsBeforeTld: integer (nullable = true)\n",
            " |-- VowelCount: integer (nullable = true)\n",
            " |-- VowelRatio: double (nullable = true)\n",
            " |-- IsBrandName: integer (nullable = true)\n",
            " |-- DomainPrefix: string (nullable = true)\n",
            " |-- IsSSLSecure: integer (nullable = true)\n",
            " |-- TldLength: integer (nullable = true)\n",
            "\n"
          ]
        }
      ],
      "source": [
        "# Adding more features\n",
        "from pyspark.sql.functions import col, udf, length, when\n",
        "from pyspark.sql.types import IntegerType, StringType, DoubleType\n",
        "import re\n",
        "\n",
        "# Define the UDFs for feature extraction\n",
        "# Feature 1: Number of Subdomains\n",
        "def count_subdomains(domain_name):\n",
        "    return domain_name.lower().count(\".\")\n",
        "\n",
        "count_subdomains_udf = udf(count_subdomains, IntegerType())\n",
        "\n",
        "# Feature 2: Contains Numbers\n",
        "def contains_numbers(domain_name):\n",
        "    return int(any(char.isdigit() for char in domain_name))\n",
        "\n",
        "contains_numbers_udf = udf(contains_numbers, IntegerType())\n",
        "\n",
        "# Feature 3: Domain Length (Character Count)\n",
        "def is_short_domain(domain_name):\n",
        "    return 1 if len(domain_name) <= 10 else 0\n",
        "\n",
        "is_short_domain_udf = udf(is_short_domain, IntegerType())\n",
        "\n",
        "# Feature 4: Number of Characters Before TLD\n",
        "def characters_before_tld(domain_name):\n",
        "    parts = domain_name.split(\".\")\n",
        "    return len(parts[0]) if len(parts) > 1 else 0\n",
        "\n",
        "characters_before_tld_udf = udf(characters_before_tld, IntegerType())\n",
        "\n",
        "# Feature 5: Vowel Ratio\n",
        "def vowel_ratio(vowel_count, domain_length):\n",
        "    return vowel_count / domain_length if domain_length > 0 else 0\n",
        "\n",
        "# Register UDF for vowel ratio calculation\n",
        "vowel_ratio_udf = udf(vowel_ratio, DoubleType())\n",
        "\n",
        "# Feature 6: Number of Vowels\n",
        "def count_vowels(domain_name):\n",
        "    out=0\n",
        "    vowels = \"aeiou\"\n",
        "    for char in domain_name.lower():\n",
        "        if  char in vowels:\n",
        "            out+=1\n",
        "    return out\n",
        "    # return sum(1 for char in domain_name.lower() if char in vowels)\n",
        "\n",
        "count_vowels_udf = udf(count_vowels, IntegerType())\n",
        "\n",
        "# Feature 7: Is Brand Name (based on a list of brand names)\n",
        "def is_brand_name(domain_name, brand_names):\n",
        "    return 1 if any(brand.lower() in domain_name.lower() for brand in brand_names) else 0\n",
        "\n",
        "brand_names = ['google', 'amazon', 'apple', 'microsoft']  # Example list, can be expanded\n",
        "is_brand_name_udf = udf(lambda domain_name: is_brand_name(domain_name, brand_names), IntegerType())\n",
        "\n",
        "# Feature 8: Domain Prefix (e.g., \"www\", \"shop\", \"app\")\n",
        "def get_domain_prefix(domain_name):\n",
        "    prefix = domain_name.split(\".\")[0]\n",
        "    return prefix if prefix in [\"www\", \"shop\", \"app\"] else \"other\"\n",
        "\n",
        "get_domain_prefix_udf = udf(get_domain_prefix, StringType())\n",
        "\n",
        "# Feature 10: Is Domain SSL Secure\n",
        "def is_ssl_secure(domain_name):\n",
        "    return 1 if domain_name.lower().startswith(\"https://\") else 0\n",
        "\n",
        "is_ssl_secure_udf = udf(is_ssl_secure, IntegerType())\n",
        "\n",
        "# Feature 11: Length of TLD\n",
        "def tld_length(domain_name):\n",
        "    match = re.search(r\"\\.(\\w+)$\", domain_name)\n",
        "    return len(match.group(1)) if match else 0\n",
        "\n",
        "tld_length_udf = udf(tld_length, IntegerType())\n",
        "\n",
        "\n",
        "\n",
        "# Assuming top500_domains is already defined (as it is from the previous steps)\n",
        "domain_authority_udf = udf(lambda domain_name: check_domain_authority(domain_name, top500_domains), IntegerType())\n",
        "\n",
        "\n",
        "\n",
        "# Apply UDFs to DataFrame\n",
        "domain_data = domain_data.withColumn(\"SubDomainCount\", count_subdomains_udf(col(\"Domain\")))  # Number of subdomains\n",
        "domain_data = domain_data.withColumn(\"IsShortDomain\", is_short_domain_udf(col(\"Domain\")))  # Short domain\n",
        "domain_data = domain_data.withColumn(\"CharsBeforeTld\", characters_before_tld_udf(col(\"Domain\")))  # Characters before TLD\n",
        "domain_data = domain_data.withColumn(\"VowelCount\", count_vowels_udf(col(\"Domain\")))  # Vowel count\n",
        "domain_data = domain_data.withColumn(\"VowelRatio\", vowel_ratio_udf(col(\"VowelCount\"), col(\"DomainLength\")))\n",
        "domain_data = domain_data.withColumn(\"IsBrandName\", is_brand_name_udf(col(\"Domain\")))  # Is brand name\n",
        "domain_data = domain_data.withColumn(\"DomainPrefix\", get_domain_prefix_udf(col(\"Domain\")))  # Domain prefix\n",
        "domain_data = domain_data.withColumn(\"IsSSLSecure\", is_ssl_secure_udf(col(\"Domain\")))  # SSL secure\n",
        "domain_data = domain_data.withColumn(\"TldLength\", tld_length_udf(col(\"Domain\")))  # TLD length\n",
        "\n",
        "\n",
        "\n",
        "\n",
        "# Show some of the processed data\n",
        "domain_data.show(5)\n",
        "# Print the schema of the DataFrame\n",
        "domain_data.printSchema()\n",
        "\n",
        "\n",
        "\n"
      ]
    },
    {
      "cell_type": "markdown",
      "metadata": {
        "id": "6YDJMEY4UFkg"
      },
      "source": []
    },
    {
      "cell_type": "code",
      "execution_count": null,
      "metadata": {
        "id": "eb4cjJwZUFkh",
        "outputId": "65b18494-72e7-4883-9951-15fde3ff4854"
      },
      "outputs": [
        {
          "name": "stderr",
          "output_type": "stream",
          "text": [
            "                                                                                \r"
          ]
        },
        {
          "name": "stdout",
          "output_type": "stream",
          "text": [
            "+--------------+--------+----+----------+--------+--------------+-----------+-----------+---------------+---------------+----------+------------+--------------+-------------+--------------+----------+-------------------+-----------+------------+-----------+---------+-----------------+\n",
            "|        Domain|category|Rank| SalePrice|SaleDate|ContainsNumber|HyphenCount|EndsWithTLD|CommonWordCount|DomainAuthority|PopularTld|DomainLength|SubDomainCount|IsShortDomain|CharsBeforeTld|VowelCount|         VowelRatio|IsBrandName|DomainPrefix|IsSSLSecure|TldLength|SalePrice_cleaned|\n",
            "+--------------+--------+----+----------+--------+--------------+-----------+-----------+---------------+---------------+----------+------------+--------------+-------------+--------------+----------+-------------------+-----------+------------+-----------+---------+-----------------+\n",
            "|     rugby.com|       5| 314|  $350,000| 11/1/04|             0|          0|          1|              1|              0|         1|           9|             1|            1|             5|         2| 0.2222222222222222|          0|       other|          0|        3|           350000|\n",
            "|    myblog.com|       5| 275|  $400,000| 12/1/04|             0|          0|          1|              2|              1|         1|          10|             1|            1|             6|         2|                0.2|          0|       other|          0|        3|           400000|\n",
            "|     brown.com|       5| 347|  $300,000|  2/1/06|             0|          0|          1|              3|              0|         1|           9|             1|            1|             5|         2| 0.2222222222222222|          0|       other|          0|        3|           300000|\n",
            "|   cameras.com|       5|  62|$1,500,000| 11/1/06|             0|          0|          1|              5|              1|         1|          11|             1|            0|             7|         4|0.36363636363636365|          0|       other|          0|        3|          1500000|\n",
            "|   diamond.com|       5|  10|$7,500,000|  5/1/06|             0|          0|          1|              3|              0|         1|          11|             1|            0|             7|         4|0.36363636363636365|          0|       other|          0|        3|          7500000|\n",
            "|   mortage.com|       5| 435|  $242,400|  4/1/06|             0|          0|          1|              3|              0|         1|          11|             1|            0|             7|         4|0.36363636363636365|          0|       other|          0|        3|           242400|\n",
            "| wrestling.com|       5| 246|  $500,000|  8/1/06|             0|          0|          1|              2|              1|         1|          13|             1|            0|             9|         3|0.23076923076923078|          0|       other|          0|        3|           500000|\n",
            "|     macau.com|       5| 191|  $550,000|  2/1/06|             0|          0|          1|              1|              0|         1|           9|             1|            1|             5|         4| 0.4444444444444444|          0|       other|          0|        3|           550000|\n",
            "|        et.com|       5| 464|  $225,000|  4/1/07|             0|          0|          1|              0|              1|         1|           6|             1|            1|             2|         2| 0.3333333333333333|          0|       other|          0|        3|           225000|\n",
            "|        az.com|       5| 230|  $500,000| 10/1/07|             0|          0|          1|              1|              0|         1|           6|             1|            1|             2|         2| 0.3333333333333333|          0|       other|          0|        3|           500000|\n",
            "|  computer.com|       5| 239|  $500,000| 11/1/99|             0|          0|          1|              1|              0|         1|          12|             1|            0|             8|         4| 0.3333333333333333|          0|       other|          0|        3|           500000|\n",
            "|   shemale.com|       5| 198|  $520,000|  1/1/07|             0|          0|          1|              3|              0|         1|          11|             1|            0|             7|         4|0.36363636363636365|          0|       other|          0|        3|           520000|\n",
            "|investment.com|       5| 118|  $900,000| 12/1/07|             0|          0|          1|              3|              1|         1|          14|             1|            0|            10|         4| 0.2857142857142857|          0|       other|          0|        3|           900000|\n",
            "+--------------+--------+----+----------+--------+--------------+-----------+-----------+---------------+---------------+----------+------------+--------------+-------------+--------------+----------+-------------------+-----------+------------+-----------+---------+-----------------+\n",
            "only showing top 13 rows\n",
            "\n"
          ]
        },
        {
          "name": "stderr",
          "output_type": "stream",
          "text": [
            "                                                                                \r"
          ]
        }
      ],
      "source": [
        "from pyspark.ml.feature import StringIndexer, OneHotEncoder, VectorAssembler\n",
        "from pyspark.ml.regression import RandomForestRegressor\n",
        "from pyspark.ml import Pipeline\n",
        "from pyspark.ml.evaluation import RegressionEvaluator\n",
        "import pandas as pd\n",
        "from sklearn.preprocessing import LabelEncoder\n",
        "import numpy as np\n",
        "\n",
        "combined_data = domain_data\n",
        "# clean data\n",
        "def clean_sale_price(price_str):\n",
        "    if price_str:\n",
        "        return int(price_str.replace('$', '').replace(',', ''))\n",
        "    return None\n",
        "\n",
        "# Register the UDF\n",
        "clean_sale_price_udf = udf(clean_sale_price, IntegerType())\n",
        "\n",
        "# Apply the UDF to the 'SalePrice' column\n",
        "combined_data = combined_data.withColumn(\"SalePrice_cleaned\", clean_sale_price_udf(\"SalePrice\"))\n",
        "combined_data_not_null = combined_data.filter(combined_data['SalePrice'].isNotNull())\n",
        "\n",
        "# Show the filtered rows\n",
        "combined_data_not_null.show(13)\n",
        "# combined_data.show()\n"
      ]
    },
    {
      "cell_type": "code",
      "execution_count": null,
      "metadata": {
        "id": "igaQq1ofUFkh",
        "outputId": "44b2e5cd-8c53-4b5b-b917-358a409bcef1"
      },
      "outputs": [
        {
          "name": "stderr",
          "output_type": "stream",
          "text": [
            "[Stage 40757:==================>                                    (1 + 2) / 3]\r"
          ]
        },
        {
          "name": "stdout",
          "output_type": "stream",
          "text": [
            "+-----------+--------+----+----------+--------+--------------+-----------+-----------+---------------+---------------+----------+------------+--------------+-------------+--------------+----------+-------------------+-----------+------------+-----------+---------+-----------------+---------------+\n",
            "|     Domain|category|Rank| SalePrice|SaleDate|ContainsNumber|HyphenCount|EndsWithTLD|CommonWordCount|DomainAuthority|PopularTld|DomainLength|SubDomainCount|IsShortDomain|CharsBeforeTld|VowelCount|         VowelRatio|IsBrandName|DomainPrefix|IsSSLSecure|TldLength|SalePrice_cleaned|SalePrice_class|\n",
            "+-----------+--------+----+----------+--------+--------------+-----------+-----------+---------------+---------------+----------+------------+--------------+-------------+--------------+----------+-------------------+-----------+------------+-----------+---------+-----------------+---------------+\n",
            "|  rugby.com|       5| 314|  $350,000| 11/1/04|             0|          0|          1|              1|              0|         1|           9|             1|            1|             5|         2| 0.2222222222222222|          0|       other|          0|        3|           350000|         medium|\n",
            "| myblog.com|       5| 275|  $400,000| 12/1/04|             0|          0|          1|              2|              1|         1|          10|             1|            1|             6|         2|                0.2|          0|       other|          0|        3|           400000|         medium|\n",
            "|  brown.com|       5| 347|  $300,000|  2/1/06|             0|          0|          1|              3|              0|         1|           9|             1|            1|             5|         2| 0.2222222222222222|          0|       other|          0|        3|           300000|         medium|\n",
            "|cameras.com|       5|  62|$1,500,000| 11/1/06|             0|          0|          1|              5|              1|         1|          11|             1|            0|             7|         4|0.36363636363636365|          0|       other|          0|        3|          1500000|      very_high|\n",
            "|diamond.com|       5|  10|$7,500,000|  5/1/06|             0|          0|          1|              3|              0|         1|          11|             1|            0|             7|         4|0.36363636363636365|          0|       other|          0|        3|          7500000|      very_high|\n",
            "+-----------+--------+----+----------+--------+--------------+-----------+-----------+---------------+---------------+----------+------------+--------------+-------------+--------------+----------+-------------------+-----------+------------+-----------+---------+-----------------+---------------+\n",
            "only showing top 5 rows\n",
            "\n"
          ]
        },
        {
          "name": "stderr",
          "output_type": "stream",
          "text": [
            "                                                                                \r"
          ]
        }
      ],
      "source": [
        "# data preprocessing\n",
        "from pyspark.sql import functions as F\n",
        "from pyspark.ml.feature import StringIndexer, OneHotEncoder, VectorAssembler\n",
        "from pyspark.ml import Pipeline\n",
        "from pyspark.ml.evaluation import MulticlassClassificationEvaluator\n",
        "from pyspark.ml.classification import RandomForestClassifier, LogisticRegression, GBTClassifier\n",
        "from pyspark.ml.tuning import CrossValidator, ParamGridBuilder\n",
        "from pyspark.ml import functions as sf\n",
        "\n",
        "\n",
        "filtered_data = combined_data.filter(combined_data['SalePrice_cleaned'].isNotNull())\n",
        "\n",
        "# Step 1: Binning the 'SalePrice' into categories (low, medium, high, very_high)\n",
        "bins = [0, 100000, 500000, 1000000, float('inf')]\n",
        "labels = ['low', 'medium', 'high', 'very_high']\n",
        "\n",
        "filtered_data = filtered_data.drop(\"SalePrice_class\")  # Drop 'SalePrice_class' if it exists\n",
        "\n",
        "# Create a new column 'SalePrice_class'\n",
        "# combined_data = combined_data.drop(\"SalePrice_class\")\n",
        "filtered_data = filtered_data.withColumn(\n",
        "    \"SalePrice_class\",\n",
        "    F.when((filtered_data['SalePrice_cleaned'] <= 100000), 'low')\n",
        "    .when((filtered_data['SalePrice_cleaned'] > 100000) & (filtered_data['SalePrice_cleaned'] <= 500000), 'medium')\n",
        "    .when((filtered_data['SalePrice_cleaned'] > 500000) & (filtered_data['SalePrice_cleaned'] <= 1000000), 'high')\n",
        "    .otherwise('very_high')\n",
        ")\n",
        "filtered_data.show(5)\n",
        "\n"
      ]
    },
    {
      "cell_type": "code",
      "execution_count": null,
      "metadata": {
        "id": "v0axb4yKUFki",
        "outputId": "71ebb6bd-3ded-41bd-826e-700ff60c32a5"
      },
      "outputs": [
        {
          "name": "stderr",
          "output_type": "stream",
          "text": [
            "                                                                                \r"
          ]
        }
      ],
      "source": [
        "filtered_data = filtered_data.sampleBy(\"SalePrice_class\", fractions={'low': 0.1, 'medium': 0.1, 'high': 0.1, 'very_high': 0.1}, seed=42)\n",
        "\n",
        "# combined_data = combined_data.drop(\"SalePrice_class_index\")\n",
        "filtered_data = filtered_data.drop(\"SalePrice_class_index\")\n",
        "\n",
        "# Step 2: Indexing the target variable 'SalePrice_class' to numeric values\n",
        "indexer = StringIndexer(inputCol=\"SalePrice_class\", outputCol=\"SalePrice_class_index\")\n",
        "filtered_data = indexer.fit(filtered_data).transform(filtered_data)\n"
      ]
    },
    {
      "cell_type": "code",
      "execution_count": null,
      "metadata": {
        "id": "3iVK7VW5UFki"
      },
      "outputs": [],
      "source": [
        "# Step 3: Select features (excluding target column 'SalePrice_class' and 'SaleDate_cleaned')\n",
        "# features = ['category', 'ContainsNumber', 'HyphenCount', 'EndsWithTLD', 'CommonWordCount',\n",
        "#             'DomainAuthority', 'PopularTld', 'DomainLength', 'SubDomainCount',\n",
        "#             'IsShortDomain', 'CharsBeforeTld', 'VowelCount', 'VowelRatio', 'IsBrandName',\n",
        "#              'IsSSLSecure', 'TldLength', 'Rank']\n",
        "\n",
        "features = ['DomainAuthority', 'DomainLength', 'Rank', 'HyphenCount']\n",
        "\n",
        "if 'features' in filtered_data.columns:\n",
        "    filtered_data = filtered_data.drop('features')\n",
        "\n",
        "# Assemble features into a single vector column\n",
        "assembler = VectorAssembler(inputCols=features, outputCol=\"features\")\n",
        "filtered_data = assembler.transform(filtered_data)"
      ]
    },
    {
      "cell_type": "code",
      "execution_count": null,
      "metadata": {
        "id": "ZQ7idn_gUFki"
      },
      "outputs": [],
      "source": [
        "\n",
        "# Step 4: Split data into training and testing sets\n",
        "train_data, test_data = filtered_data.randomSplit([0.7, 0.3], seed=42)"
      ]
    },
    {
      "cell_type": "code",
      "execution_count": null,
      "metadata": {
        "id": "W3_ZSKMDUFki",
        "outputId": "abff2d70-1004-41f4-a011-3446376cfc0e"
      },
      "outputs": [
        {
          "name": "stderr",
          "output_type": "stream",
          "text": [
            "24/12/20 14:45:26 WARN DecisionTreeMetadata: DecisionTree reducing maxBins from 64 to 20 (= number of training instances)\n",
            "[Stage 40808:=============>                                         (1 + 3) / 4]\r"
          ]
        },
        {
          "name": "stdout",
          "output_type": "stream",
          "text": [
            "Random Forest Accuracy: 0.8333333333333334\n"
          ]
        },
        {
          "name": "stderr",
          "output_type": "stream",
          "text": [
            "                                                                                \r"
          ]
        }
      ],
      "source": [
        "# model training\n",
        "# Random Forest Classifier\n",
        "rf_classifier = RandomForestClassifier(featuresCol=\"features\", labelCol=\"SalePrice_class_index\",maxDepth=10,numTrees=100,maxBins=64)\n",
        "rf_model = rf_classifier.fit(train_data)\n",
        "rf_predictions = rf_model.transform(test_data)\n",
        "\n",
        "evaluator = MulticlassClassificationEvaluator(labelCol=\"SalePrice_class_index\", predictionCol=\"prediction\", metricName=\"accuracy\")\n",
        "rf_accuracy = evaluator.evaluate(rf_predictions)\n",
        "print(f\"Random Forest Accuracy: {rf_accuracy}\")\n"
      ]
    },
    {
      "cell_type": "code",
      "execution_count": null,
      "metadata": {
        "id": "Vpumj65bUFki",
        "outputId": "8e4706aa-2664-4fbf-928b-d85ce1298d2b"
      },
      "outputs": [
        {
          "name": "stderr",
          "output_type": "stream",
          "text": [
            "24/12/20 15:24:10 WARN DecisionTreeMetadata: DecisionTree reducing maxBins from 32 to 7 (= number of training instances)\n",
            "24/12/20 15:24:14 WARN DecisionTreeMetadata: DecisionTree reducing maxBins from 64 to 7 (= number of training instances)\n",
            "24/12/20 15:24:14 WARN DecisionTreeMetadata: DecisionTree reducing maxBins from 32 to 7 (= number of training instances)\n",
            "24/12/20 15:24:15 WARN DecisionTreeMetadata: DecisionTree reducing maxBins from 64 to 7 (= number of training instances)\n",
            "24/12/20 15:24:15 WARN DecisionTreeMetadata: DecisionTree reducing maxBins from 32 to 7 (= number of training instances)\n",
            "24/12/20 15:24:15 WARN DecisionTreeMetadata: DecisionTree reducing maxBins from 64 to 7 (= number of training instances)\n",
            "24/12/20 15:24:15 WARN DecisionTreeMetadata: DecisionTree reducing maxBins from 32 to 7 (= number of training instances)\n",
            "24/12/20 15:24:16 WARN DecisionTreeMetadata: DecisionTree reducing maxBins from 64 to 7 (= number of training instances)\n",
            "24/12/20 15:24:16 WARN DecisionTreeMetadata: DecisionTree reducing maxBins from 32 to 7 (= number of training instances)\n",
            "24/12/20 15:24:16 WARN DecisionTreeMetadata: DecisionTree reducing maxBins from 64 to 7 (= number of training instances)\n",
            "24/12/20 15:24:16 WARN DecisionTreeMetadata: DecisionTree reducing maxBins from 32 to 7 (= number of training instances)\n",
            "24/12/20 15:24:17 WARN DecisionTreeMetadata: DecisionTree reducing maxBins from 64 to 7 (= number of training instances)\n",
            "24/12/20 15:24:17 WARN DecisionTreeMetadata: DecisionTree reducing maxBins from 32 to 7 (= number of training instances)\n",
            "24/12/20 15:24:17 WARN DecisionTreeMetadata: DecisionTree reducing maxBins from 64 to 7 (= number of training instances)\n",
            "24/12/20 15:24:18 WARN DecisionTreeMetadata: DecisionTree reducing maxBins from 32 to 7 (= number of training instances)\n",
            "24/12/20 15:24:18 WARN DecisionTreeMetadata: DecisionTree reducing maxBins from 64 to 7 (= number of training instances)\n",
            "24/12/20 15:24:18 WARN DecisionTreeMetadata: DecisionTree reducing maxBins from 32 to 7 (= number of training instances)\n",
            "24/12/20 15:24:18 WARN DecisionTreeMetadata: DecisionTree reducing maxBins from 64 to 7 (= number of training instances)\n",
            "24/12/20 15:24:25 WARN DecisionTreeMetadata: DecisionTree reducing maxBins from 32 to 8 (= number of training instances)\n",
            "24/12/20 15:24:29 WARN DecisionTreeMetadata: DecisionTree reducing maxBins from 64 to 8 (= number of training instances)\n",
            "24/12/20 15:24:29 WARN DecisionTreeMetadata: DecisionTree reducing maxBins from 32 to 8 (= number of training instances)\n",
            "24/12/20 15:24:30 WARN DecisionTreeMetadata: DecisionTree reducing maxBins from 64 to 8 (= number of training instances)\n",
            "24/12/20 15:24:30 WARN DecisionTreeMetadata: DecisionTree reducing maxBins from 32 to 8 (= number of training instances)\n",
            "24/12/20 15:24:30 WARN DecisionTreeMetadata: DecisionTree reducing maxBins from 64 to 8 (= number of training instances)\n",
            "24/12/20 15:24:30 WARN DecisionTreeMetadata: DecisionTree reducing maxBins from 32 to 8 (= number of training instances)\n",
            "24/12/20 15:24:31 WARN DecisionTreeMetadata: DecisionTree reducing maxBins from 64 to 8 (= number of training instances)\n",
            "24/12/20 15:24:31 WARN DecisionTreeMetadata: DecisionTree reducing maxBins from 32 to 8 (= number of training instances)\n",
            "24/12/20 15:24:31 WARN DecisionTreeMetadata: DecisionTree reducing maxBins from 64 to 8 (= number of training instances)\n",
            "24/12/20 15:24:31 WARN DecisionTreeMetadata: DecisionTree reducing maxBins from 32 to 8 (= number of training instances)\n",
            "24/12/20 15:24:32 WARN DecisionTreeMetadata: DecisionTree reducing maxBins from 64 to 8 (= number of training instances)\n",
            "24/12/20 15:24:32 WARN DecisionTreeMetadata: DecisionTree reducing maxBins from 32 to 8 (= number of training instances)\n",
            "24/12/20 15:24:32 WARN DecisionTreeMetadata: DecisionTree reducing maxBins from 64 to 8 (= number of training instances)\n",
            "24/12/20 15:24:33 WARN DecisionTreeMetadata: DecisionTree reducing maxBins from 32 to 8 (= number of training instances)\n",
            "24/12/20 15:24:33 WARN DecisionTreeMetadata: DecisionTree reducing maxBins from 64 to 8 (= number of training instances)\n",
            "24/12/20 15:24:33 WARN DecisionTreeMetadata: DecisionTree reducing maxBins from 32 to 8 (= number of training instances)\n",
            "24/12/20 15:24:33 WARN DecisionTreeMetadata: DecisionTree reducing maxBins from 64 to 8 (= number of training instances)\n",
            "24/12/20 15:24:37 WARN DecisionTreeMetadata: DecisionTree reducing maxBins from 32 to 11 (= number of training instances)\n",
            "24/12/20 15:24:41 WARN DecisionTreeMetadata: DecisionTree reducing maxBins from 64 to 11 (= number of training instances)\n",
            "24/12/20 15:24:41 WARN DecisionTreeMetadata: DecisionTree reducing maxBins from 32 to 11 (= number of training instances)\n",
            "24/12/20 15:24:42 WARN DecisionTreeMetadata: DecisionTree reducing maxBins from 64 to 11 (= number of training instances)\n",
            "24/12/20 15:24:42 WARN DecisionTreeMetadata: DecisionTree reducing maxBins from 32 to 11 (= number of training instances)\n",
            "24/12/20 15:24:42 WARN DecisionTreeMetadata: DecisionTree reducing maxBins from 64 to 11 (= number of training instances)\n",
            "24/12/20 15:24:43 WARN DecisionTreeMetadata: DecisionTree reducing maxBins from 32 to 11 (= number of training instances)\n",
            "24/12/20 15:24:43 WARN DecisionTreeMetadata: DecisionTree reducing maxBins from 64 to 11 (= number of training instances)\n",
            "24/12/20 15:24:43 WARN DecisionTreeMetadata: DecisionTree reducing maxBins from 32 to 11 (= number of training instances)\n",
            "24/12/20 15:24:43 WARN DecisionTreeMetadata: DecisionTree reducing maxBins from 64 to 11 (= number of training instances)\n",
            "24/12/20 15:24:44 WARN DecisionTreeMetadata: DecisionTree reducing maxBins from 32 to 11 (= number of training instances)\n",
            "24/12/20 15:24:44 WARN DecisionTreeMetadata: DecisionTree reducing maxBins from 64 to 11 (= number of training instances)\n",
            "24/12/20 15:24:44 WARN DecisionTreeMetadata: DecisionTree reducing maxBins from 32 to 11 (= number of training instances)\n",
            "24/12/20 15:24:44 WARN DecisionTreeMetadata: DecisionTree reducing maxBins from 64 to 11 (= number of training instances)\n",
            "24/12/20 15:24:45 WARN DecisionTreeMetadata: DecisionTree reducing maxBins from 32 to 11 (= number of training instances)\n",
            "24/12/20 15:24:45 WARN DecisionTreeMetadata: DecisionTree reducing maxBins from 64 to 11 (= number of training instances)\n",
            "24/12/20 15:24:45 WARN DecisionTreeMetadata: DecisionTree reducing maxBins from 32 to 11 (= number of training instances)\n",
            "24/12/20 15:24:45 WARN DecisionTreeMetadata: DecisionTree reducing maxBins from 64 to 11 (= number of training instances)\n",
            "24/12/20 15:24:54 WARN DecisionTreeMetadata: DecisionTree reducing maxBins from 32 to 20 (= number of training instances)\n",
            "[Stage 42051:>                                                      (0 + 4) / 4]\r"
          ]
        },
        {
          "name": "stdout",
          "output_type": "stream",
          "text": [
            "Tuned Random Forest Accuracy: 0.8333333333333334\n",
            "Best Model Parameters:\n",
            " - maxDepth: 5\n",
            " - numTrees: 10\n",
            " - maxBins: 32\n"
          ]
        },
        {
          "name": "stderr",
          "output_type": "stream",
          "text": [
            "                                                                                \r"
          ]
        }
      ],
      "source": [
        "from pyspark.ml.classification import RandomForestClassifier\n",
        "from pyspark.ml.evaluation import MulticlassClassificationEvaluator\n",
        "from pyspark.ml.tuning import CrossValidator, ParamGridBuilder\n",
        "\n",
        "# Define RandomForestClassifier\n",
        "rf_classifier = RandomForestClassifier(featuresCol=\"features\", labelCol=\"SalePrice_class_index\")\n",
        "\n",
        "# Create a parameter grid for tuning\n",
        "paramGrid = (ParamGridBuilder()\n",
        "             .addGrid(rf_classifier.maxDepth, [5, 10, 15])  # Test various tree depths\n",
        "             .addGrid(rf_classifier.numTrees, [10, 50, 100])  # Test various tree counts\n",
        "             .addGrid(rf_classifier.maxBins, [32, 64])  # Test different bin sizes\n",
        "             .build())\n",
        "\n",
        "# Use CrossValidator for model selection\n",
        "evaluator = MulticlassClassificationEvaluator(labelCol=\"SalePrice_class_index\", predictionCol=\"prediction\", metricName=\"accuracy\")\n",
        "crossval = CrossValidator(estimator=rf_classifier,\n",
        "                          estimatorParamMaps=paramGrid,\n",
        "                          evaluator=evaluator,\n",
        "                          numFolds=3)  # 3-fold cross-validation\n",
        "\n",
        "# Train model with cross-validation\n",
        "cv_model = crossval.fit(train_data)\n",
        "\n",
        "# Make predictions on test data\n",
        "rf_predictions = cv_model.transform(test_data)\n",
        "\n",
        "# Evaluate the best model\n",
        "rf_accuracy = evaluator.evaluate(rf_predictions)\n",
        "print(f\"Tuned Random Forest Accuracy: {rf_accuracy}\")\n",
        "\n",
        "# Retrieve the best model's parameters\n",
        "best_model = cv_model.bestModel\n",
        "print(f\"Best Model Parameters:\\n - maxDepth: {best_model._java_obj.getMaxDepth()}\\n - numTrees: {best_model._java_obj.getNumTrees()}\\n - maxBins: {best_model._java_obj.getMaxBins()}\")\n"
      ]
    },
    {
      "cell_type": "code",
      "execution_count": null,
      "metadata": {
        "id": "8eOyDq-IUFki"
      },
      "outputs": [],
      "source": [
        "all_metrics = list(zip(paramGrid, cv_model.avgMetrics))\n",
        "\n",
        "# Display all parameter combinations with their accuracies\n",
        "print(\"All Tested Parameter Combinations and Accuracies:\")\n",
        "for i, (params, accuracy) in enumerate(all_metrics, start=0):\n",
        "    print(f\"Combination {i}:\")\n",
        "    for param, value in params.items():\n",
        "        print(f\"  {param.name}: {value}\")\n",
        "    print(f\"  Accuracy: {accuracy}\")\n",
        "    print(\"-\" * 30)"
      ]
    },
    {
      "cell_type": "code",
      "execution_count": null,
      "metadata": {
        "id": "4CulYow6UFki",
        "outputId": "0757230a-1c65-4db3-c7d6-b7f899758e14"
      },
      "outputs": [
        {
          "name": "stderr",
          "output_type": "stream",
          "text": [
            "[Stage 14211:>                                                      (0 + 4) / 4]\r"
          ]
        },
        {
          "name": "stdout",
          "output_type": "stream",
          "text": [
            "Naive Bayes Accuracy: 0.8333333333333334\n"
          ]
        },
        {
          "name": "stderr",
          "output_type": "stream",
          "text": [
            "                                                                                \r"
          ]
        }
      ],
      "source": [
        "\n",
        "\n",
        "# Naive Bayes Classifier\n",
        "nb_classifier = NaiveBayes(featuresCol=\"features\", labelCol=\"SalePrice_class_index\", modelType=\"multinomial\")\n",
        "nb_model = nb_classifier.fit(train_data)\n",
        "nb_predictions = nb_model.transform(test_data)\n",
        "\n",
        "# Evaluate Naive Bayes Classifier\n",
        "nb_accuracy = evaluator.evaluate(nb_predictions)\n",
        "print(f\"Naive Bayes Accuracy: {nb_accuracy}\")\n"
      ]
    },
    {
      "cell_type": "code",
      "execution_count": null,
      "metadata": {
        "id": "3hW3mRuGUFki",
        "outputId": "7129c3a4-02f6-4a81-8378-685251b27abd"
      },
      "outputs": [
        {
          "name": "stderr",
          "output_type": "stream",
          "text": [
            "                                                                                \r"
          ]
        },
        {
          "name": "stdout",
          "output_type": "stream",
          "text": [
            "Naive Bayes Accuracy: 0.8333333333333334\n"
          ]
        },
        {
          "name": "stderr",
          "output_type": "stream",
          "text": [
            "/Volumes/Brady/UK/UEL/IS/env/lib/python3.9/site-packages/pyspark/sql/context.py:158: FutureWarning: Deprecated in 3.0.0. Use SparkSession.builder.getOrCreate() instead.\n",
            "  warnings.warn(\n",
            "[Stage 42085:>                                                      (0 + 4) / 4]\r"
          ]
        },
        {
          "name": "stdout",
          "output_type": "stream",
          "text": [
            "Class 0.0: Precision = 1.0, Recall = 1.0, F1 Score = 1.0\n",
            "Class 1.0: Precision = 1.0, Recall = 0.6666666666666666, F1 Score = 0.8\n",
            "Class 2.0: Precision = 0.5, Recall = 1.0, F1 Score = 0.6666666666666666\n",
            "Overall Accuracy: 0.8333333333333334\n",
            "Confusion Matrix:\n",
            "[[2. 0. 0.]\n",
            " [0. 2. 1.]\n",
            " [0. 0. 1.]]\n"
          ]
        },
        {
          "name": "stderr",
          "output_type": "stream",
          "text": [
            "                                                                                \r"
          ]
        }
      ],
      "source": [
        "from pyspark.ml.classification import NaiveBayes\n",
        "from pyspark.mllib.evaluation import MulticlassMetrics\n",
        "from pyspark.ml.evaluation import MulticlassClassificationEvaluator\n",
        "\n",
        "# Naive Bayes Classifier (Multinomial model)\n",
        "nb_classifier = NaiveBayes(featuresCol=\"features\", labelCol=\"SalePrice_class_index\", modelType=\"multinomial\")\n",
        "# Train the model\n",
        "nb_model = nb_classifier.fit(train_data)\n",
        "# Predict on the test set\n",
        "nb_predictions = nb_model.transform(test_data)\n",
        "# Evaluate accuracy\n",
        "evaluator = MulticlassClassificationEvaluator(labelCol=\"SalePrice_class_index\", predictionCol=\"prediction\", metricName=\"accuracy\")\n",
        "nb_accuracy = evaluator.evaluate(nb_predictions)\n",
        "print(f\"Naive Bayes Accuracy: {nb_accuracy}\")\n",
        "# Select prediction and actual label columns for evaluation\n",
        "predictions_and_labels = nb_predictions.select(\"prediction\", \"SalePrice_class_index\").rdd\n",
        "# Create an instance of MulticlassMetrics\n",
        "metrics = MulticlassMetrics(predictions_and_labels)\n",
        "# Precision, Recall, F1-Score for each class\n",
        "labels = predictions_and_labels.map(lambda x: x[1]).distinct().collect()\n",
        "for label in labels:\n",
        "    precision = metrics.precision(label)\n",
        "    recall = metrics.recall(label)\n",
        "    f1_score = metrics.fMeasure(label)\n",
        "    print(f\"Class {label}: Precision = {precision}, Recall = {recall}, F1 Score = {f1_score}\")\n",
        "# Overall Accuracy\n",
        "accuracy = metrics.accuracy\n",
        "print(f\"Overall Accuracy: {accuracy}\")\n",
        "# Confusion Matrix\n",
        "confusion_matrix = metrics.confusionMatrix().toArray()\n",
        "print(\"Confusion Matrix:\")\n",
        "print(confusion_matrix)\n"
      ]
    },
    {
      "cell_type": "code",
      "execution_count": null,
      "metadata": {
        "id": "zeXZcxnqUFkj",
        "outputId": "e19a3035-708b-4126-9f73-19349c7ac616"
      },
      "outputs": [
        {
          "name": "stderr",
          "output_type": "stream",
          "text": [
            "                                                                                \r"
          ]
        },
        {
          "name": "stdout",
          "output_type": "stream",
          "text": [
            "Naive Bayes Accuracy: 0.8333333333333334\n"
          ]
        },
        {
          "name": "stderr",
          "output_type": "stream",
          "text": [
            "/Volumes/Brady/UK/UEL/IS/env/lib/python3.9/site-packages/pyspark/sql/context.py:158: FutureWarning: Deprecated in 3.0.0. Use SparkSession.builder.getOrCreate() instead.\n",
            "  warnings.warn(\n",
            "                                                                                \r"
          ]
        },
        {
          "data": {
            "image/png": "[encoded data removed]",
            "text/plain": [
              "<Figure size 1000x600 with 1 Axes>"
            ]
          },
          "metadata": {},
          "output_type": "display_data"
        },
        {
          "name": "stdout",
          "output_type": "stream",
          "text": [
            "Confusion Matrix:\n",
            "[[2. 0. 0.]\n",
            " [0. 2. 1.]\n",
            " [0. 0. 1.]]\n"
          ]
        }
      ],
      "source": [
        "import matplotlib.pyplot as plt\n",
        "import numpy as np\n",
        "from pyspark.ml.classification import NaiveBayes\n",
        "from pyspark.mllib.evaluation import MulticlassMetrics\n",
        "from pyspark.ml.evaluation import MulticlassClassificationEvaluator\n",
        "\n",
        "# Naive Bayes Classifier (Multinomial model)\n",
        "nb_classifier = NaiveBayes(featuresCol=\"features\", labelCol=\"SalePrice_class_index\", modelType=\"multinomial\")\n",
        "nb_model = nb_classifier.fit(train_data)\n",
        "nb_predictions = nb_model.transform(test_data)\n",
        "\n",
        "# Evaluate accuracy using MulticlassClassificationEvaluator\n",
        "evaluator = MulticlassClassificationEvaluator(labelCol=\"SalePrice_class_index\", predictionCol=\"prediction\", metricName=\"accuracy\")\n",
        "nb_accuracy = evaluator.evaluate(nb_predictions)\n",
        "print(f\"Naive Bayes Accuracy: {nb_accuracy}\")\n",
        "\n",
        "# Select necessary columns for evaluation: prediction and actual label (SalePrice_class_index)\n",
        "predictions_and_labels = nb_predictions.select(\"prediction\", \"SalePrice_class_index\").rdd\n",
        "\n",
        "# Create an instance of MulticlassMetrics\n",
        "metrics = MulticlassMetrics(predictions_and_labels)\n",
        "\n",
        "# Precision, Recall, F1-Score for each class\n",
        "labels = predictions_and_labels.map(lambda x: x[1]).distinct().collect()\n",
        "\n",
        "precision_values = []\n",
        "recall_values = []\n",
        "f1_values = []\n",
        "\n",
        "for label in labels:\n",
        "    precision = metrics.precision(label)\n",
        "    recall = metrics.recall(label)\n",
        "\n",
        "    # Manually calculate F1 Score\n",
        "    f1_score = 2 * (precision * recall) / (precision + recall) if (precision + recall) != 0 else 0\n",
        "\n",
        "    precision_values.append(precision)\n",
        "    recall_values.append(recall)\n",
        "    f1_values.append(f1_score)\n",
        "\n",
        "# Prepare data for the plot\n",
        "labels = [str(label) for label in labels]  # Convert class labels to strings for plot\n",
        "\n",
        "# Set up the figure and axes\n",
        "x = np.arange(len(labels))  # Class labels positions\n",
        "width = 0.25  # Width of the bars\n",
        "\n",
        "fig, ax = plt.subplots(figsize=(10, 6))\n",
        "\n",
        "# Plot bars for each metric\n",
        "rects1 = ax.bar(x - width, precision_values, width, label='Precision')\n",
        "rects2 = ax.bar(x, recall_values, width, label='Recall')\n",
        "rects3 = ax.bar(x + width, f1_values, width, label='F1 Score')\n",
        "\n",
        "# Add some text for labels, title and custom x-axis tick labels\n",
        "ax.set_xlabel('Classes')\n",
        "ax.set_ylabel('Scores')\n",
        "ax.set_title('Precision, Recall, and F1 Score for each class (Naive Bayes Classifier)')\n",
        "ax.set_xticks(x)\n",
        "ax.set_xticklabels(labels)\n",
        "ax.legend()\n",
        "\n",
        "# Function to add labels on top of the bars\n",
        "def add_labels(rects):\n",
        "    for rect in rects:\n",
        "        height = rect.get_height()\n",
        "        ax.annotate(f'{height:.2f}',\n",
        "                    xy=(rect.get_x() + rect.get_width() / 2, height),\n",
        "                    xytext=(0, 3),  # 3 points vertical offset\n",
        "                    textcoords=\"offset points\",\n",
        "                    ha='center', va='bottom')\n",
        "\n",
        "# Add labels to each bar\n",
        "add_labels(rects1)\n",
        "add_labels(rects2)\n",
        "add_labels(rects3)\n",
        "\n",
        "# Show the plot\n",
        "plt.tight_layout()\n",
        "plt.show()\n",
        "\n",
        "# Confusion Matrix\n",
        "confusion_matrix = metrics.confusionMatrix().toArray()\n",
        "print(\"Confusion Matrix:\")\n",
        "print(confusion_matrix)\n"
      ]
    },
    {
      "cell_type": "code",
      "execution_count": null,
      "metadata": {
        "id": "wTvcgPBuUFkj",
        "outputId": "fbfa05c2-e8d3-437a-dcf0-b9e718dfe170"
      },
      "outputs": [
        {
          "data": {
            "image/png": "[encoded data removed]",
            "text/plain": [
              "<Figure size 640x480 with 2 Axes>"
            ]
          },
          "metadata": {},
          "output_type": "display_data"
        }
      ],
      "source": [
        "import seaborn as sns\n",
        "import matplotlib.pyplot as plt\n",
        "\n",
        "# Plot Confusion Matrix\n",
        "sns.heatmap(confusion_matrix, annot=True, fmt='.2f', cmap='Blues', xticklabels=labels, yticklabels=labels)\n",
        "plt.title(\"Naive Bayes Confusion Matrix\")\n",
        "plt.xlabel(\"Predicted Label\")\n",
        "plt.ylabel(\"True Label\")\n",
        "plt.show()\n"
      ]
    },
    {
      "cell_type": "code",
      "execution_count": null,
      "metadata": {
        "id": "MSFM-UcXUFkj",
        "outputId": "652843b4-bfdb-4714-a709-af658f3a19a2"
      },
      "outputs": [
        {
          "name": "stderr",
          "output_type": "stream",
          "text": [
            "24/12/20 15:48:37 WARN DecisionTreeMetadata: DecisionTree reducing maxBins from 64 to 20 (= number of training instances)\n",
            "                                                                                \r"
          ]
        },
        {
          "name": "stdout",
          "output_type": "stream",
          "text": [
            "Random Forest Accuracy: 0.8333333333333334\n"
          ]
        },
        {
          "name": "stderr",
          "output_type": "stream",
          "text": [
            "/Volumes/Brady/UK/UEL/IS/env/lib/python3.9/site-packages/pyspark/sql/context.py:158: FutureWarning: Deprecated in 3.0.0. Use SparkSession.builder.getOrCreate() instead.\n",
            "  warnings.warn(\n",
            "[Stage 42142:=============>                                         (1 + 3) / 4]\r"
          ]
        },
        {
          "name": "stdout",
          "output_type": "stream",
          "text": [
            "Class 0.0: Precision = 1.0, Recall = 1.0, F1 Score = 1.0\n",
            "Class 1.0: Precision = 1.0, Recall = 0.6666666666666666, F1 Score = 0.8\n",
            "Class 2.0: Precision = 0.5, Recall = 1.0, F1 Score = 0.6666666666666666\n",
            "Overall Accuracy: 0.8333333333333334\n",
            "Confusion Matrix:\n",
            "[[2. 0. 0.]\n",
            " [0. 2. 1.]\n",
            " [0. 0. 1.]]\n"
          ]
        },
        {
          "name": "stderr",
          "output_type": "stream",
          "text": [
            "                                                                                \r"
          ]
        }
      ],
      "source": [
        "from pyspark.ml.classification import RandomForestClassifier\n",
        "from pyspark.mllib.evaluation import MulticlassMetrics\n",
        "from pyspark.ml.evaluation import MulticlassClassificationEvaluator\n",
        "# Random Forest Classifier\n",
        "rf_classifier = RandomForestClassifier(featuresCol=\"features\", labelCol=\"SalePrice_class_index\", maxDepth=10, numTrees=100, maxBins=64)\n",
        "rf_model = rf_classifier.fit(train_data)\n",
        "rf_predictions = rf_model.transform(test_data)\n",
        "# Accuracy Evaluation using MulticlassClassificationEvaluator\n",
        "evaluator = MulticlassClassificationEvaluator(labelCol=\"SalePrice_class_index\", predictionCol=\"prediction\", metricName=\"accuracy\")\n",
        "rf_accuracy = evaluator.evaluate(rf_predictions)\n",
        "print(f\"Random Forest Accuracy: {rf_accuracy}\")\n",
        "# Select only the necessary columns: prediction and the actual label (SalePrice_class_index)\n",
        "predictions_and_labels = rf_predictions.select(\"prediction\", \"SalePrice_class_index\").rdd\n",
        "# Create an instance of MulticlassMetrics\n",
        "metrics = MulticlassMetrics(predictions_and_labels)\n",
        "# Precision, Recall, F1-Score for each class\n",
        "labels = predictions_and_labels.map(lambda x: x[1]).distinct().collect()\n",
        "for label in labels:\n",
        "    precision = metrics.precision(label)\n",
        "    recall = metrics.recall(label)\n",
        "    f1_score = metrics.fMeasure(label)\n",
        "\n",
        "    print(f\"Class {label}: Precision = {precision}, Recall = {recall}, F1 Score = {f1_score}\")\n",
        "\n",
        "# Overall Accuracy\n",
        "accuracy = metrics.accuracy\n",
        "print(f\"Overall Accuracy: {accuracy}\")\n",
        "\n",
        "# Confusion Matrix\n",
        "confusion_matrix = metrics.confusionMatrix().toArray()\n",
        "print(\"Confusion Matrix:\")\n",
        "print(confusion_matrix)\n"
      ]
    },
    {
      "cell_type": "code",
      "execution_count": null,
      "metadata": {
        "id": "z52tItyTUFkj",
        "outputId": "dc00ac63-05b7-4d23-beb4-ce7f93938e58"
      },
      "outputs": [
        {
          "name": "stderr",
          "output_type": "stream",
          "text": [
            "24/12/20 17:21:47 WARN DecisionTreeMetadata: DecisionTree reducing maxBins from 64 to 20 (= number of training instances)\n",
            "                                                                                \r"
          ]
        },
        {
          "name": "stdout",
          "output_type": "stream",
          "text": [
            "Random Forest Accuracy: 0.8333333333333334\n"
          ]
        },
        {
          "name": "stderr",
          "output_type": "stream",
          "text": [
            "/Volumes/Brady/UK/UEL/IS/env/lib/python3.9/site-packages/pyspark/sql/context.py:158: FutureWarning: Deprecated in 3.0.0. Use SparkSession.builder.getOrCreate() instead.\n",
            "  warnings.warn(\n",
            "                                                                                \r"
          ]
        },
        {
          "data": {
            "image/png": "[encoded data removed]",
            "text/plain": [
              "<Figure size 1000x600 with 1 Axes>"
            ]
          },
          "metadata": {},
          "output_type": "display_data"
        }
      ],
      "source": [
        "import matplotlib.pyplot as plt\n",
        "import numpy as np\n",
        "from pyspark.ml.evaluation import MulticlassClassificationEvaluator\n",
        "from pyspark.mllib.evaluation import MulticlassMetrics\n",
        "\n",
        "# Random Forest Classifier\n",
        "rf_classifier = RandomForestClassifier(featuresCol=\"features\", labelCol=\"SalePrice_class_index\", maxDepth=10, numTrees=100, maxBins=64)\n",
        "rf_model = rf_classifier.fit(train_data)\n",
        "rf_predictions = rf_model.transform(test_data)\n",
        "\n",
        "# Accuracy Evaluation using MulticlassClassificationEvaluator\n",
        "evaluator = MulticlassClassificationEvaluator(labelCol=\"SalePrice_class_index\", predictionCol=\"prediction\", metricName=\"accuracy\")\n",
        "rf_accuracy = evaluator.evaluate(rf_predictions)\n",
        "print(f\"Random Forest Accuracy: {rf_accuracy}\")\n",
        "\n",
        "# Select only the necessary columns: prediction and the actual label (SalePrice_class_index)\n",
        "predictions_and_labels = rf_predictions.select(\"prediction\", \"SalePrice_class_index\").rdd\n",
        "\n",
        "# Create an instance of MulticlassMetrics\n",
        "metrics = MulticlassMetrics(predictions_and_labels)\n",
        "\n",
        "# Precision, Recall, F1-Score for each class\n",
        "labels = predictions_and_labels.map(lambda x: x[1]).distinct().collect()\n",
        "\n",
        "precision_values = []\n",
        "recall_values = []\n",
        "f1_values = []\n",
        "\n",
        "for label in labels:\n",
        "    precision = metrics.precision(label)\n",
        "    recall = metrics.recall(label)\n",
        "\n",
        "    # Manually calculate F1 Score\n",
        "    f1_score = 2 * (precision * recall) / (precision + recall) if (precision + recall) != 0 else 0\n",
        "\n",
        "    precision_values.append(precision)\n",
        "    recall_values.append(recall)\n",
        "    f1_values.append(f1_score)\n",
        "\n",
        "# Prepare data for the plot\n",
        "labels = [str(label) for label in labels]  # Class labels\n",
        "\n",
        "# Set up the figure and axes\n",
        "x = np.arange(len(labels))  # The class labels\n",
        "width = 0.25  # Width of the bars\n",
        "\n",
        "fig, ax = plt.subplots(figsize=(10, 6))\n",
        "\n",
        "# Plot bars for each metric\n",
        "rects1 = ax.bar(x - width, precision_values, width, label='Precision')\n",
        "rects2 = ax.bar(x, recall_values, width, label='Recall')\n",
        "rects3 = ax.bar(x + width, f1_values, width, label='F1 Score')\n",
        "\n",
        "# Add some text for labels, title and custom x-axis tick labels, etc.\n",
        "ax.set_xlabel('Classes')\n",
        "ax.set_ylabel('Scores')\n",
        "ax.set_title('Precision, Recall, and F1 Score for each class (Random Forest Classifier)')\n",
        "ax.set_xticks(x)\n",
        "ax.set_xticklabels(labels)\n",
        "ax.legend()\n",
        "\n",
        "# Function to add labels on top of the bars\n",
        "def add_labels(rects):\n",
        "    for rect in rects:\n",
        "        height = rect.get_height()\n",
        "        ax.annotate(f'{height:.2f}',\n",
        "                    xy=(rect.get_x() + rect.get_width() / 2, height),\n",
        "                    xytext=(0, 3),  # 3 points vertical offset\n",
        "                    textcoords=\"offset points\",\n",
        "                    ha='center', va='bottom')\n",
        "\n",
        "# Add labels to each bar\n",
        "add_labels(rects1)\n",
        "add_labels(rects2)\n",
        "add_labels(rects3)\n",
        "\n",
        "# Show the plot\n",
        "plt.tight_layout()\n",
        "plt.show()\n"
      ]
    },
    {
      "cell_type": "code",
      "execution_count": null,
      "metadata": {
        "id": "SE5N3cemUFkj",
        "outputId": "562e8bb5-24a6-410e-e654-c28588f482d5"
      },
      "outputs": [
        {
          "data": {
            "image/png": "[encoded data removed]",
            "text/plain": [
              "<Figure size 800x600 with 2 Axes>"
            ]
          },
          "metadata": {},
          "output_type": "display_data"
        }
      ],
      "source": [
        "import matplotlib.pyplot as plt\n",
        "import seaborn as sns\n",
        "import numpy as np\n",
        "\n",
        "# Assuming confusion_matrix is already computed for the Random Forest Classifier\n",
        "# Convert the confusion matrix to a heatmap\n",
        "import seaborn as sns\n",
        "import matplotlib.pyplot as plt\n",
        "\n",
        "# Plot Confusion Matrix\n",
        "plt.figure(figsize=(8, 6))\n",
        "sns.heatmap(confusion_matrix, annot=True, fmt='.2f', cmap='Blues', xticklabels=labels, yticklabels=labels)\n",
        "plt.title(\"Random Forest Confusion Matrix\")\n",
        "plt.xlabel(\"Predicted Label\")\n",
        "plt.ylabel(\"True Label\")\n",
        "plt.show()\n"
      ]
    },
    {
      "cell_type": "code",
      "execution_count": null,
      "metadata": {
        "id": "hN6xaMgvUFkj",
        "outputId": "2b0a61e7-109b-474e-cac7-855673039fef"
      },
      "outputs": [
        {
          "name": "stderr",
          "output_type": "stream",
          "text": [
            "24/12/20 07:22:27 WARN CacheManager: Asked to cache already cached data.\n",
            "24/12/20 07:22:27 WARN CacheManager: Asked to cache already cached data.\n",
            "[Stage 14369:=============>                                         (1 + 3) / 4]\r"
          ]
        },
        {
          "name": "stdout",
          "output_type": "stream",
          "text": [
            "Tuned Naive Bayes Accuracy: 0.8333333333333334\n",
            "Best Model Parameters: {'Smoothing': 0.5, 'Model Type': 'multinomial'}\n",
            "\n",
            "All accuracies and parameters tested:\n",
            "Best Naive Bayes Model Accuracy: 0.8333333333333334\n",
            "\n",
            "Best Parameters:\n",
            " - Smoothing: 0.5\n",
            " - Model Type: multinomial\n"
          ]
        },
        {
          "name": "stderr",
          "output_type": "stream",
          "text": [
            "                                                                                \r"
          ]
        }
      ],
      "source": [
        "# Naive Bayes Tuning\n",
        "from pyspark.ml.classification import NaiveBayes\n",
        "from pyspark.ml.evaluation import MulticlassClassificationEvaluator\n",
        "from pyspark.ml.tuning import CrossValidator, ParamGridBuilder\n",
        "\n",
        "# Define NaiveBayes Classifier\n",
        "nb_classifier = NaiveBayes(featuresCol=\"features\", labelCol=\"SalePrice_class_index\", modelType=\"multinomial\")\n",
        "\n",
        "# Create a parameter grid for tuning\n",
        "paramGrid = (ParamGridBuilder()\n",
        "             .addGrid(nb_classifier.smoothing, [0.5, 1.0, 1.5])  # Test different smoothing values\n",
        "             .addGrid(nb_classifier.modelType, [\"multinomial\"])  # Test different model types\n",
        "             .build())\n",
        "\n",
        "# Use CrossValidator for model selection\n",
        "evaluator = MulticlassClassificationEvaluator(labelCol=\"SalePrice_class_index\", predictionCol=\"prediction\", metricName=\"accuracy\")\n",
        "crossval = CrossValidator(estimator=nb_classifier,\n",
        "                          estimatorParamMaps=paramGrid,\n",
        "                          evaluator=evaluator,\n",
        "                          numFolds=3)  # 3-fold cross-validation\n",
        "\n",
        "# Initialize a list to store the accuracies and parameters\n",
        "accuracies = []\n",
        "\n",
        "# Train model with cross-validation\n",
        "cv_model = crossval.fit(train_data)\n",
        "\n",
        "# Make predictions on test data\n",
        "nb_predictions = cv_model.transform(test_data)\n",
        "\n",
        "# Evaluate the best model\n",
        "nb_accuracy = evaluator.evaluate(nb_predictions)\n",
        "accuracies.append((\"Best Naive Bayes Model Accuracy\", nb_accuracy))\n",
        "\n",
        "# Retrieve the best model's parameters\n",
        "best_model = cv_model.bestModel\n",
        "best_params = {\n",
        "    \"Smoothing\": best_model._java_obj.getSmoothing(),\n",
        "    \"Model Type\": best_model._java_obj.getModelType()\n",
        "}\n",
        "\n",
        "# Print the accuracy and best parameters for Naive Bayes\n",
        "print(f\"Tuned Naive Bayes Accuracy: {nb_accuracy}\")\n",
        "print(\"Best Model Parameters:\", best_params)\n",
        "\n",
        "# Print all the accuracies and parameters tested during cross-validation\n",
        "print(\"\\nAll accuracies and parameters tested:\")\n",
        "for acc in accuracies:\n",
        "    print(f\"{acc[0]}: {acc[1]}\")\n",
        "\n",
        "# Optionally, print the best model parameters for Naive Bayes\n",
        "print(f\"\\nBest Parameters:\\n - Smoothing: {best_params['Smoothing']}\\n - Model Type: {best_params['Model Type']}\")\n"
      ]
    },
    {
      "cell_type": "code",
      "execution_count": null,
      "metadata": {
        "id": "X4NCQLbHUFkj",
        "outputId": "1563a1f0-93a8-4abc-8e09-8a3d29ccb59d"
      },
      "outputs": [
        {
          "name": "stderr",
          "output_type": "stream",
          "text": [
            "24/12/20 09:48:42 WARN DecisionTreeMetadata: DecisionTree reducing maxBins from 32 to 13 (= number of training instances)\n",
            "24/12/20 09:48:42 WARN DecisionTreeMetadata: DecisionTree reducing maxBins from 32 to 13 (= number of training instances)\n",
            "24/12/20 09:48:42 WARN DecisionTreeMetadata: DecisionTree reducing maxBins from 32 to 13 (= number of training instances)\n",
            "[Stage 40481:=========================================>             (3 + 1) / 4]\r"
          ]
        },
        {
          "name": "stdout",
          "output_type": "stream",
          "text": [
            "One-vs-Rest Random Forest Accuracy: 0.6666666666666666\n"
          ]
        },
        {
          "name": "stderr",
          "output_type": "stream",
          "text": [
            "                                                                                \r"
          ]
        }
      ],
      "source": [
        "from pyspark.ml.classification import RandomForestClassifier, OneVsRest\n",
        "from pyspark.ml.evaluation import MulticlassClassificationEvaluator\n",
        "\n",
        "# Base classifier (e.g., Random Forest)\n",
        "base_rf_classifier = RandomForestClassifier(featuresCol=\"features\", labelCol=\"SalePrice_class_index\")\n",
        "\n",
        "# One-vs-Rest classifier using RandomForestClassifier as the base\n",
        "ovr_classifier = OneVsRest(classifier=base_rf_classifier, labelCol=\"SalePrice_class_index\")\n",
        "\n",
        "# Train the model\n",
        "ovr_model = ovr_classifier.fit(train_data)\n",
        "\n",
        "# Predict on the test set\n",
        "ovr_predictions = ovr_model.transform(test_data)\n",
        "\n",
        "# Evaluate the model's accuracy\n",
        "evaluator = MulticlassClassificationEvaluator(labelCol=\"SalePrice_class_index\", predictionCol=\"prediction\", metricName=\"accuracy\")\n",
        "ovr_accuracy = evaluator.evaluate(ovr_predictions)\n",
        "\n",
        "\n",
        "print(f\"One-vs-Rest Random Forest Accuracy: {ovr_accuracy}\")\n"
      ]
    },
    {
      "cell_type": "code",
      "execution_count": null,
      "metadata": {
        "id": "KoQztRbEUFkj",
        "outputId": "9b4d81bc-e4d2-4784-8716-2fc61f689adc"
      },
      "outputs": [
        {
          "name": "stderr",
          "output_type": "stream",
          "text": [
            "24/12/20 15:49:58 WARN DecisionTreeMetadata: DecisionTree reducing maxBins from 32 to 13 (= number of training instances)\n",
            "24/12/20 15:49:59 WARN DecisionTreeMetadata: DecisionTree reducing maxBins from 32 to 13 (= number of training instances)\n",
            "24/12/20 15:49:59 WARN DecisionTreeMetadata: DecisionTree reducing maxBins from 32 to 13 (= number of training instances)\n",
            "                                                                                \r"
          ]
        },
        {
          "name": "stdout",
          "output_type": "stream",
          "text": [
            "One-vs-Rest Random Forest Accuracy: 0.6666666666666666\n"
          ]
        },
        {
          "name": "stderr",
          "output_type": "stream",
          "text": [
            "[Stage 42247:===========================>                           (2 + 2) / 4]\r"
          ]
        },
        {
          "name": "stdout",
          "output_type": "stream",
          "text": [
            "Class 0.0: Precision = 1.0, Recall = 1.0, F1 Score = 1.0\n",
            "Class 1.0: Precision = 1.0, Recall = 0.3333333333333333, F1 Score = 0.5\n",
            "Class 2.0: Precision = 0.3333333333333333, Recall = 1.0, F1 Score = 0.5\n",
            "Overall Accuracy: 0.6666666666666666\n",
            "Confusion Matrix:\n",
            "[[2. 0. 0.]\n",
            " [0. 1. 2.]\n",
            " [0. 0. 1.]]\n"
          ]
        },
        {
          "name": "stderr",
          "output_type": "stream",
          "text": [
            "                                                                                \r"
          ]
        }
      ],
      "source": [
        "from pyspark.ml.classification import RandomForestClassifier, OneVsRest\n",
        "from pyspark.mllib.evaluation import MulticlassMetrics\n",
        "from pyspark.ml.evaluation import MulticlassClassificationEvaluator\n",
        "\n",
        "# Base classifier (RandomForest)\n",
        "base_rf_classifier = RandomForestClassifier(featuresCol=\"features\", labelCol=\"SalePrice_class_index\")\n",
        "# One-vs-Rest classifier using RandomForestClassifier as the base\n",
        "ovr_classifier = OneVsRest(classifier=base_rf_classifier, labelCol=\"SalePrice_class_index\")\n",
        "# Train the model\n",
        "ovr_model = ovr_classifier.fit(train_data)\n",
        "# Predict on the test set\n",
        "ovr_predictions = ovr_model.transform(test_data)\n",
        "# Evaluate accuracy\n",
        "evaluator = MulticlassClassificationEvaluator(labelCol=\"SalePrice_class_index\", predictionCol=\"prediction\", metricName=\"accuracy\")\n",
        "ovr_accuracy = evaluator.evaluate(ovr_predictions)\n",
        "print(f\"One-vs-Rest Random Forest Accuracy: {ovr_accuracy}\")\n",
        "# Select prediction and actual label columns for evaluation\n",
        "predictions_and_labels = ovr_predictions.select(\"prediction\", \"SalePrice_class_index\").rdd\n",
        "# Create an instance of MulticlassMetrics\n",
        "metrics = MulticlassMetrics(predictions_and_labels)\n",
        "# Precision, Recall, F1-Score for each class\n",
        "labels = predictions_and_labels.map(lambda x: x[1]).distinct().collect()\n",
        "for label in labels:\n",
        "    precision = metrics.precision(label)\n",
        "    recall = metrics.recall(label)\n",
        "    f1_score = metrics.fMeasure(label)\n",
        "    print(f\"Class {label}: Precision = {precision}, Recall = {recall}, F1 Score = {f1_score}\")\n",
        "# Overall Accuracy\n",
        "accuracy = metrics.accuracy\n",
        "print(f\"Overall Accuracy: {accuracy}\")\n",
        "\n",
        "# Confusion Matrix\n",
        "confusion_matrix = metrics.confusionMatrix().toArray()\n",
        "print(\"Confusion Matrix:\")\n",
        "print(confusion_matrix)\n"
      ]
    },
    {
      "cell_type": "code",
      "execution_count": null,
      "metadata": {
        "id": "hDezuu5HUFkj",
        "outputId": "b70cb979-2e88-4f8e-b2be-13599f87ad33"
      },
      "outputs": [
        {
          "name": "stderr",
          "output_type": "stream",
          "text": [
            "                                                                                \r"
          ]
        },
        {
          "data": {
            "image/png": "[encoded data removed]",
            "text/plain": [
              "<Figure size 1000x600 with 1 Axes>"
            ]
          },
          "metadata": {},
          "output_type": "display_data"
        }
      ],
      "source": [
        "import matplotlib.pyplot as plt\n",
        "import numpy as np\n",
        "from pyspark.ml.evaluation import MulticlassClassificationEvaluator\n",
        "from pyspark.mllib.evaluation import MulticlassMetrics\n",
        "\n",
        "# Get precision and recall values for each class\n",
        "labels = predictions_and_labels.map(lambda x: x[1]).distinct().collect()\n",
        "\n",
        "precision_values = []\n",
        "recall_values = []\n",
        "f1_values = []\n",
        "\n",
        "for label in labels:\n",
        "    precision = metrics.precision(label)\n",
        "    recall = metrics.recall(label)\n",
        "\n",
        "    # Manually calculate F1 Score\n",
        "    f1_score = 2 * (precision * recall) / (precision + recall) if (precision + recall) != 0 else 0\n",
        "\n",
        "    precision_values.append(precision)\n",
        "    recall_values.append(recall)\n",
        "    f1_values.append(f1_score)\n",
        "\n",
        "# Prepare data for the plot\n",
        "labels = [str(label) for label in labels]  # Class labels\n",
        "\n",
        "# Set up the figure and axes\n",
        "x = np.arange(len(labels))  # The class labels\n",
        "width = 0.25  # Width of the bars\n",
        "\n",
        "fig, ax = plt.subplots(figsize=(10, 6))\n",
        "\n",
        "# Plot bars for each metric\n",
        "rects1 = ax.bar(x - width, precision_values, width, label='Precision')\n",
        "rects2 = ax.bar(x, recall_values, width, label='Recall')\n",
        "rects3 = ax.bar(x + width, f1_values, width, label='F1 Score')\n",
        "\n",
        "# Add some text for labels, title and custom x-axis tick labels, etc.\n",
        "ax.set_xlabel('Classes')\n",
        "ax.set_ylabel('Scores')\n",
        "ax.set_title('Precision, Recall, and F1 Score for each class (One-vs-Rest Random Forest)')\n",
        "ax.set_xticks(x)\n",
        "ax.set_xticklabels(labels)\n",
        "ax.legend()\n",
        "\n",
        "# Function to add labels on top of the bars\n",
        "def add_labels(rects):\n",
        "    for rect in rects:\n",
        "        height = rect.get_height()\n",
        "        ax.annotate(f'{height:.2f}',\n",
        "                    xy=(rect.get_x() + rect.get_width() / 2, height),\n",
        "                    xytext=(0, 3),  # 3 points vertical offset\n",
        "                    textcoords=\"offset points\",\n",
        "                    ha='center', va='bottom')\n",
        "\n",
        "# Add labels to each bar\n",
        "add_labels(rects1)\n",
        "add_labels(rects2)\n",
        "add_labels(rects3)\n",
        "\n",
        "# Show the plot\n",
        "plt.tight_layout()\n",
        "plt.show()\n"
      ]
    },
    {
      "cell_type": "code",
      "execution_count": null,
      "metadata": {
        "id": "YcVEsZXOUFkk"
      },
      "outputs": [],
      "source": []
    },
    {
      "cell_type": "code",
      "execution_count": null,
      "metadata": {
        "id": "MN1hqKvSUFkk",
        "outputId": "65451849-a603-4936-d2f4-9460a1d7d7df"
      },
      "outputs": [
        {
          "data": {
            "image/png": "[encoded data removed]",
            "text/plain": [
              "<Figure size 800x600 with 2 Axes>"
            ]
          },
          "metadata": {},
          "output_type": "display_data"
        }
      ],
      "source": [
        "# Assuming confusion_matrix is already computed for the One-vs-Rest Random Forest Classifier\n",
        "# Convert the confusion matrix to a heatmap\n",
        "plt.figure(figsize=(8, 6))\n",
        "sns.heatmap(confusion_matrix, annot=True, fmt='.2f', cmap='Blues', xticklabels=labels, yticklabels=labels)\n",
        "plt.title(\"One-vs-Rest Random Forest Confusion Matrix\")\n",
        "plt.xlabel(\"Predicted Label\")\n",
        "plt.ylabel(\"True Label\")\n",
        "plt.show()\n"
      ]
    },
    {
      "cell_type": "code",
      "execution_count": null,
      "metadata": {
        "id": "Rua67j9HUFkk",
        "outputId": "a073c86a-7adf-4743-a6c4-7972c89d3334"
      },
      "outputs": [
        {
          "name": "stderr",
          "output_type": "stream",
          "text": [
            "[Stage 6289:==============>                                         (1 + 3) / 4]\r"
          ]
        },
        {
          "name": "stdout",
          "output_type": "stream",
          "text": [
            "Logistic Regression Accuracy: 0.5596649198612039\n"
          ]
        },
        {
          "name": "stderr",
          "output_type": "stream",
          "text": [
            "                                                                                \r"
          ]
        }
      ],
      "source": [
        "from pyspark.ml.classification import LogisticRegression\n",
        "\n",
        "# Logistic Regression with regularization (L2)\n",
        "lr_classifier = LogisticRegression(featuresCol=\"features\", labelCol=\"SalePrice_class_index\", maxIter=10, regParam=0.1)\n",
        "lr_model = lr_classifier.fit(train_data)\n",
        "lr_predictions = lr_model.transform(test_data)\n",
        "\n",
        "# Evaluate Logistic Regression\n",
        "lr_accuracy = evaluator.evaluate(lr_predictions)\n",
        "print(f\"Logistic Regression Accuracy: {lr_accuracy}\")\n"
      ]
    },
    {
      "cell_type": "code",
      "execution_count": null,
      "metadata": {
        "id": "5EhLCESjUFkk",
        "outputId": "0d299c6e-6189-4042-b99e-b2e4c425dfa0"
      },
      "outputs": [
        {
          "name": "stderr",
          "output_type": "stream",
          "text": [
            "[Stage 40094:>                                                      (0 + 4) / 4]\r"
          ]
        },
        {
          "name": "stdout",
          "output_type": "stream",
          "text": [
            "Class 0.0: Precision = 0.6666666666666666, Recall = 1.0, F1 Score = 0.8\n",
            "Class 1.0: Precision = 1.0, Recall = 1.0, F1 Score = 1.0\n",
            "Class 2.0: Precision = 0.0, Recall = 0.0, F1 Score = 0.0\n",
            "Overall Accuracy: 0.8333333333333334\n",
            "Confusion Matrix:\n",
            "[[2. 0. 0.]\n",
            " [0. 3. 0.]\n",
            " [1. 0. 0.]]\n"
          ]
        },
        {
          "name": "stderr",
          "output_type": "stream",
          "text": [
            "                                                                                \r"
          ]
        }
      ],
      "source": [
        "from pyspark.ml.classification import LogisticRegression\n",
        "from pyspark.mllib.evaluation import MulticlassMetrics\n",
        "\n",
        "# Logistic Regression with regularization (L2)\n",
        "lr_classifier = LogisticRegression(featuresCol=\"features\", labelCol=\"SalePrice_class_index\", maxIter=10, regParam=0.1)\n",
        "lr_model = lr_classifier.fit(train_data)\n",
        "lr_predictions = lr_model.transform(test_data)\n",
        "\n",
        "# Select only the necessary columns: prediction and the actual label (SalePrice_class_index)\n",
        "# kmeans_predictions = kmeans_predictions.withColumn(\"prediction\", col(\"prediction\").cast(\"double\"))\n",
        "predictions_and_labels = lr_predictions.select(\"prediction\", \"SalePrice_class_index\").rdd\n",
        "\n",
        "# Create an instance of MulticlassMetrics\n",
        "metrics = MulticlassMetrics(predictions_and_labels)\n",
        "\n",
        "# Precision, Recall, F1-Score for each class\n",
        "labels = predictions_and_labels.map(lambda x: x[1]).distinct().collect()\n",
        "\n",
        "for label in labels:\n",
        "    precision = metrics.precision(label)\n",
        "    recall = metrics.recall(label)\n",
        "    f1_score = metrics.fMeasure(label)\n",
        "\n",
        "    print(f\"Class {label}: Precision = {precision}, Recall = {recall}, F1 Score = {f1_score}\")\n",
        "\n",
        "# Overall Accuracy\n",
        "accuracy = metrics.accuracy\n",
        "print(f\"Overall Accuracy: {accuracy}\")\n",
        "\n",
        "# Confusion Matrix\n",
        "confusion_matrix = metrics.confusionMatrix().toArray()\n",
        "print(\"Confusion Matrix:\")\n",
        "print(confusion_matrix)\n"
      ]
    }
  ],
  "metadata": {
    "colab": {
      "provenance": []
    },
    "kernelspec": {
      "display_name": "env",
      "language": "python",
      "name": "python3"
    },
    "language_info": {
      "codemirror_mode": {
        "name": "ipython",
        "version": 3
      },
      "file_extension": ".py",
      "mimetype": "text/x-python",
      "name": "python",
      "nbconvert_exporter": "python",
      "pygments_lexer": "ipython3",
      "version": "3.9.6"
    }
  },
  "nbformat": 4,
  "nbformat_minor": 0
}
